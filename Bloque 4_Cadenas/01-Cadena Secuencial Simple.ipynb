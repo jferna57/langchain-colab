{
 "cells": [
  {
   "cell_type": "markdown",
   "id": "bcded1a6-2430-4707-a78c-c82f4c5ee6fc",
   "metadata": {},
   "source": [
    "<em style=\"text-align:center\">Copyright Iván Pinar Domínguez</em>"
   ]
  },
  {
   "cell_type": "markdown",
   "id": "e2128d1c-62d1-4681-abe1-754a1410e632",
   "metadata": {},
   "source": [
    "## Importar librerías e instancia de modelo de chat"
   ]
  },
  {
   "cell_type": "code",
   "execution_count": 2,
   "id": "e2d81e4f-8739-4a19-abf9-7515304fc0a9",
   "metadata": {},
   "outputs": [],
   "source": [
    "from langchain.prompts import PromptTemplate, SystemMessagePromptTemplate,ChatPromptTemplate, HumanMessagePromptTemplate\n",
    "from langchain_openai import ChatOpenAI\n",
    "f = open('../OpenAI_key.txt')\n",
    "api_key = f.read()\n",
    "chat = ChatOpenAI(openai_api_key=api_key)"
   ]
  },
  {
   "cell_type": "markdown",
   "id": "728f1747-b8fc-4d31-96c2-047fc83c079d",
   "metadata": {},
   "source": [
    "##  Creación objeto LLMChain"
   ]
  },
  {
   "cell_type": "code",
   "execution_count": 3,
   "id": "ef4ce02d-d8aa-44f3-aa91-cfb8cfc06f6c",
   "metadata": {},
   "outputs": [],
   "source": [
    "human_message_prompt = HumanMessagePromptTemplate.from_template(\n",
    "        \"Dame un nombre de compañía que sea simpático para una compañía que fabrique {producto}\"\n",
    "    )"
   ]
  },
  {
   "cell_type": "code",
   "execution_count": 4,
   "id": "bda465bc-5863-4393-a67d-97352a32b1b0",
   "metadata": {},
   "outputs": [],
   "source": [
    "chat_prompt_template = ChatPromptTemplate.from_messages([human_message_prompt])"
   ]
  },
  {
   "cell_type": "code",
   "execution_count": 7,
   "id": "eb223191-78c9-421e-a8a3-67e016b10faf",
   "metadata": {},
   "outputs": [],
   "source": [
    "from langchain.chains import LLMChain\n",
    "chain = LLMChain(llm=chat, prompt=chat_prompt_template)"
   ]
  },
  {
   "cell_type": "code",
   "execution_count": 8,
   "id": "6d4b3baf-5a5e-40bd-b916-bf0460a762f8",
   "metadata": {},
   "outputs": [
    {
     "name": "stdout",
     "output_type": "stream",
     "text": [
      "{'producto': 'Lavadoras', 'text': 'LavaSonrisas'}\n"
     ]
    }
   ],
   "source": [
    "print(chain.invoke(input=\"Lavadoras\"))"
   ]
  },
  {
   "cell_type": "markdown",
   "id": "c9b403f0",
   "metadata": {},
   "source": [
    "#  Cadena Secuencia Simple"
   ]
  },
  {
   "cell_type": "code",
   "execution_count": 9,
   "id": "5f4cb796-3ea3-4a63-96a3-58d9be1991a8",
   "metadata": {},
   "outputs": [],
   "source": [
    "from langchain.chains.sequential import SimpleSequentialChain"
   ]
  },
  {
   "cell_type": "code",
   "execution_count": 10,
   "id": "ee4cf672-8071-42c1-917a-f04c2f88c8d6",
   "metadata": {},
   "outputs": [],
   "source": [
    "llm = ChatOpenAI(openai_api_key=api_key)"
   ]
  },
  {
   "cell_type": "code",
   "execution_count": 12,
   "id": "75505659-35af-4eec-a890-42ab4486ea9a",
   "metadata": {},
   "outputs": [],
   "source": [
    "template = \"Dame un simple resumen con un listado de puntos para un post de un blog acerca de {tema}\"\n",
    "prompt1 = ChatPromptTemplate.from_template(template)\n",
    "chain_1 = LLMChain(llm=llm,prompt=prompt1)"
   ]
  },
  {
   "cell_type": "code",
   "execution_count": 13,
   "id": "24b974d6-446f-4328-b2af-eda7041f6587",
   "metadata": {},
   "outputs": [],
   "source": [
    "template = \"Escribe un post completo usando este resumen: {resumen}\"\n",
    "prompt2 = ChatPromptTemplate.from_template(template)\n",
    "chain_2 = LLMChain(llm=llm,prompt=prompt2)"
   ]
  },
  {
   "cell_type": "code",
   "execution_count": 14,
   "id": "9f3919a0-fee1-48bb-aeab-4be80f4799fc",
   "metadata": {},
   "outputs": [],
   "source": [
    "full_chain = SimpleSequentialChain(chains=[chain_1,chain_2],\n",
    "                                  verbose=True) #verbose=True nos irá dando paso a paso lo que hace, pudiendo ver los resultados intermedios"
   ]
  },
  {
   "cell_type": "code",
   "execution_count": 15,
   "id": "23708ed6-3511-4adb-83ad-ca24cd936fd8",
   "metadata": {},
   "outputs": [
    {
     "name": "stdout",
     "output_type": "stream",
     "text": [
      "\n",
      "\n",
      "\u001b[1m> Entering new SimpleSequentialChain chain...\u001b[0m\n",
      "\u001b[36;1m\u001b[1;3m- La inteligencia artificial es una rama de la informática que busca crear sistemas capaces de aprender y realizar tareas de manera autónoma.\n",
      "- Se utilizan algoritmos y modelos matemáticos para entrenar a los sistemas de inteligencia artificial.\n",
      "- La inteligencia artificial se aplica en una amplia variedad de campos, como la medicina, la industria, la educación y la robótica.\n",
      "- Algunos ejemplos de aplicaciones de inteligencia artificial son los asistentes virtuales, los sistemas de recomendación y los vehículos autónomos.\n",
      "- A pesar de sus beneficios, la inteligencia artificial también plantea desafíos éticos y sociales, como el impacto en el empleo y la privacidad de los datos.\n",
      "- Es importante seguir investigando y desarrollando la inteligencia artificial de manera responsable y ética.\u001b[0m\n",
      "\u001b[33;1m\u001b[1;3mLa inteligencia artificial (IA) es una rama de la informática que ha revolucionado la manera en que interactuamos con la tecnología. Busca crear sistemas capaces de aprender y realizar tareas de manera autónoma, a través del uso de algoritmos y modelos matemáticos para entrenar a los sistemas de IA.\n",
      "\n",
      "La aplicación de la inteligencia artificial se extiende a una amplia variedad de campos, como la medicina, la industria, la educación y la robótica. Ejemplos concretos de su uso son los asistentes virtuales, los sistemas de recomendación y los vehículos autónomos, que han mejorado la eficiencia y la comodidad en nuestras vidas diarias.\n",
      "\n",
      "Sin embargo, a pesar de los beneficios que aporta, la inteligencia artificial también plantea desafíos éticos y sociales. Por un lado, la preocupación por el impacto en el empleo, ya que la automatización de tareas puede suponer la pérdida de puestos de trabajo. Por otro lado, la privacidad de los datos se convierte en un tema crucial, ya que la recopilación masiva de información puede vulnerar la intimidad de las personas.\n",
      "\n",
      "Por tanto, es fundamental seguir investigando y desarrollando la inteligencia artificial de manera responsable y ética. Se deben establecer normas y regulaciones que protejan los derechos de los individuos y se promueva la transparencia en el uso de la tecnología. Solo así podremos aprovechar al máximo el potencial de la inteligencia artificial, sin descuidar los aspectos éticos y sociales que conlleva su implementación.\u001b[0m\n",
      "\n",
      "\u001b[1m> Finished chain.\u001b[0m\n"
     ]
    }
   ],
   "source": [
    "result = full_chain.invoke(input=\"Inteligencia Artificial\")"
   ]
  },
  {
   "cell_type": "code",
   "execution_count": 16,
   "id": "c41b4952-b601-446c-83cf-49b7cdd9bab2",
   "metadata": {},
   "outputs": [
    {
     "name": "stdout",
     "output_type": "stream",
     "text": [
      "La inteligencia artificial (IA) es una rama de la informática que ha revolucionado la manera en que interactuamos con la tecnología. Busca crear sistemas capaces de aprender y realizar tareas de manera autónoma, a través del uso de algoritmos y modelos matemáticos para entrenar a los sistemas de IA.\n",
      "\n",
      "La aplicación de la inteligencia artificial se extiende a una amplia variedad de campos, como la medicina, la industria, la educación y la robótica. Ejemplos concretos de su uso son los asistentes virtuales, los sistemas de recomendación y los vehículos autónomos, que han mejorado la eficiencia y la comodidad en nuestras vidas diarias.\n",
      "\n",
      "Sin embargo, a pesar de los beneficios que aporta, la inteligencia artificial también plantea desafíos éticos y sociales. Por un lado, la preocupación por el impacto en el empleo, ya que la automatización de tareas puede suponer la pérdida de puestos de trabajo. Por otro lado, la privacidad de los datos se convierte en un tema crucial, ya que la recopilación masiva de información puede vulnerar la intimidad de las personas.\n",
      "\n",
      "Por tanto, es fundamental seguir investigando y desarrollando la inteligencia artificial de manera responsable y ética. Se deben establecer normas y regulaciones que protejan los derechos de los individuos y se promueva la transparencia en el uso de la tecnología. Solo así podremos aprovechar al máximo el potencial de la inteligencia artificial, sin descuidar los aspectos éticos y sociales que conlleva su implementación.\n"
     ]
    }
   ],
   "source": [
    "print(result['output'])"
   ]
  }
 ],
 "metadata": {
  "kernelspec": {
   "display_name": "Python 3 (ipykernel)",
   "language": "python",
   "name": "python3"
  },
  "language_info": {
   "codemirror_mode": {
    "name": "ipython",
    "version": 3
   },
   "file_extension": ".py",
   "mimetype": "text/x-python",
   "name": "python",
   "nbconvert_exporter": "python",
   "pygments_lexer": "ipython3",
   "version": "3.11.5"
  }
 },
 "nbformat": 4,
 "nbformat_minor": 5
}
