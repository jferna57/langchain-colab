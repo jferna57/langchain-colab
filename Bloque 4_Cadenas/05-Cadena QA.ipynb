{
 "cells": [
  {
   "cell_type": "markdown",
   "id": "9454b5e9",
   "metadata": {},
   "source": [
    "<em style=\"text-align:center\">Copyright Iván Pinar Domínguez</em>"
   ]
  },
  {
   "cell_type": "markdown",
   "id": "e2128d1c-62d1-4681-abe1-754a1410e632",
   "metadata": {},
   "source": [
    "## Importar librerías iniciales e instancia de modelo de chat"
   ]
  },
  {
   "cell_type": "code",
   "execution_count": 1,
   "id": "e2d81e4f-8739-4a19-abf9-7515304fc0a9",
   "metadata": {},
   "outputs": [],
   "source": [
    "from langchain.prompts import PromptTemplate, SystemMessagePromptTemplate,ChatPromptTemplate, HumanMessagePromptTemplate\n",
    "from langchain_openai import ChatOpenAI\n",
    "from langchain.chains import SimpleSequentialChain, LLMChain,TransformChain\n",
    "f = open('../OpenAI_key.txt')\n",
    "api_key = f.read()\n",
    "llm = ChatOpenAI(openai_api_key=api_key)"
   ]
  },
  {
   "cell_type": "markdown",
   "id": "dea207e9-8342-4e29-b2c6-225af73b4459",
   "metadata": {},
   "source": [
    "### Conectar a BD Vectores"
   ]
  },
  {
   "cell_type": "code",
   "execution_count": 2,
   "id": "33745370-8834-4ef5-ae38-177f19cb903e",
   "metadata": {},
   "outputs": [],
   "source": [
    "from langchain.embeddings.openai import OpenAIEmbeddings\n",
    "from langchain_community.vectorstores import SKLearnVectorStore"
   ]
  },
  {
   "cell_type": "code",
   "execution_count": 4,
   "id": "f708fa15-94a1-4afb-a3b1-2d9b8320572f",
   "metadata": {},
   "outputs": [],
   "source": [
    "embedding_function = OpenAIEmbeddings(openai_api_key=api_key)"
   ]
  },
  {
   "cell_type": "code",
   "execution_count": 5,
   "id": "49a3b2d6",
   "metadata": {},
   "outputs": [],
   "source": [
    "vector_store_connection = SKLearnVectorStore(embedding=embedding_function, persist_path=\"../Bloque 3_Conectores de Datos/ejemplosk_embedding_db\", serializer=\"parquet\")"
   ]
  },
  {
   "cell_type": "markdown",
   "id": "207e080a-3517-4310-8792-6f9cdc2e854d",
   "metadata": {},
   "source": [
    "## Cargar cadena QA"
   ]
  },
  {
   "cell_type": "code",
   "execution_count": 6,
   "id": "299fc8e0-adb9-4499-b3d6-ed9aec61971d",
   "metadata": {},
   "outputs": [],
   "source": [
    "from langchain.chains.question_answering import load_qa_chain\n",
    "from langchain.chains.qa_with_sources import load_qa_with_sources_chain #Opción que proporciona también la fuente de datos de la respuesta"
   ]
  },
  {
   "cell_type": "code",
   "execution_count": 7,
   "id": "fb332aec-2924-40df-86c2-473a1cb53b96",
   "metadata": {},
   "outputs": [],
   "source": [
    "chain = load_qa_chain(llm,chain_type='stuff') #chain_type='stuff' se usa cuando se desea una manera simple y directa de cargar y procesar el contenido completo sin dividirlo en fragmentos más pequeños. Es ideal para situaciones donde el volumen de datos no es demasiado grande y se puede manejar de manera eficiente por el modelo de lenguaje en una sola operación."
   ]
  },
  {
   "cell_type": "code",
   "execution_count": 8,
   "id": "aee28e63-236b-4aa9-8f59-1198fdae83de",
   "metadata": {},
   "outputs": [],
   "source": [
    "question = \"¿Qué pasó en el siglo de Oro?\""
   ]
  },
  {
   "cell_type": "code",
   "execution_count": 9,
   "id": "2015fe12-1fa8-4e94-8410-edf5818bda82",
   "metadata": {},
   "outputs": [],
   "source": [
    "docs = vector_store_connection.similarity_search(question)"
   ]
  },
  {
   "cell_type": "code",
   "execution_count": 10,
   "id": "d80a66b6",
   "metadata": {},
   "outputs": [
    {
     "name": "stderr",
     "output_type": "stream",
     "text": [
      "C:\\Users\\Iván Pinar\\anaconda3\\Lib\\site-packages\\langchain_core\\_api\\deprecation.py:139: LangChainDeprecationWarning: The method `Chain.run` was deprecated in langchain 0.1.0 and will be removed in 0.3.0. Use invoke instead.\n",
      "  warn_deprecated(\n"
     ]
    },
    {
     "data": {
      "text/plain": [
       "'Durante el Siglo de Oro español, que abarca desde la publicación de la Gramática castellana de Nebrija en 1492 hasta la muerte de Calderón en 1681, hubo un florecimiento en las artes y las letras hispanas. Destacaron figuras como Miguel de Cervantes Saavedra, autor de \"Don Quijote de la Mancha\", considerada la primera novela moderna de la historia universal. Además, surgieron obras como \"Lazarillo de Tormes\" y hubo una pléyade de poetas, dramaturgos, prosistas, humanistas y filósofos notables como Quevedo, Góngora, Lope de Vega, Calderón, Tirso de Molina, San Juan de la Cruz, Santa Teresa de Ávila, entre muchos otros.'"
      ]
     },
     "execution_count": 10,
     "metadata": {},
     "output_type": "execute_result"
    }
   ],
   "source": [
    "chain.run(input_documents=docs,question=question)"
   ]
  },
  {
   "cell_type": "markdown",
   "id": "b89eff3a",
   "metadata": {},
   "source": [
    "### Alternativa con método invoke"
   ]
  },
  {
   "cell_type": "code",
   "execution_count": 11,
   "id": "3707d9ac",
   "metadata": {},
   "outputs": [],
   "source": [
    "#Estructurar un diccionario con los parámetros de entrada\n",
    "inputs = {\n",
    "    \"input_documents\": docs,\n",
    "    \"question\": question\n",
    "}"
   ]
  },
  {
   "cell_type": "code",
   "execution_count": 12,
   "id": "4ed349b5-6a27-41ed-a361-c47d75450a50",
   "metadata": {},
   "outputs": [
    {
     "data": {
      "text/plain": [
       "'En el Siglo de Oro español, que abarca desde la publicación de la Gramática castellana de Nebrija en 1492 hasta la muerte de Calderón en 1681, hubo un florecimiento en las artes y las letras hispanas. Destacaron figuras como Miguel de Cervantes Saavedra, autor de \"Don Quijote de la Mancha\", considerada la primera novela moderna; así como poetas, dramaturgos, prosistas como Quevedo, Góngora, Lope de Vega, Calderón, entre otros. Además, en este periodo se inició el género de la picaresca con obras como \"La vida de Lazarillo de Tormes y de sus fortunas y adversidades\".'"
      ]
     },
     "execution_count": 12,
     "metadata": {},
     "output_type": "execute_result"
    }
   ],
   "source": [
    "chain.invoke(inputs)[\"output_text\"]"
   ]
  }
 ],
 "metadata": {
  "kernelspec": {
   "display_name": "Python 3 (ipykernel)",
   "language": "python",
   "name": "python3"
  },
  "language_info": {
   "codemirror_mode": {
    "name": "ipython",
    "version": 3
   },
   "file_extension": ".py",
   "mimetype": "text/x-python",
   "name": "python",
   "nbconvert_exporter": "python",
   "pygments_lexer": "ipython3",
   "version": "3.11.5"
  }
 },
 "nbformat": 4,
 "nbformat_minor": 5
}
