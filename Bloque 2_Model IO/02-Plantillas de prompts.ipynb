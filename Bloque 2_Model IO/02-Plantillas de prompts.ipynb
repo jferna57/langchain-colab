{
 "cells": [
  {
   "cell_type": "markdown",
   "id": "bcded1a6-2430-4707-a78c-c82f4c5ee6fc",
   "metadata": {},
   "source": [
    "<em style=\"text-align:center\">Copyright Iván Pinar Domínguez</em>"
   ]
  },
  {
   "cell_type": "markdown",
   "id": "81ad1f37",
   "metadata": {},
   "source": [
    "## Importar librerías de templates"
   ]
  },
  {
   "cell_type": "code",
   "execution_count": 26,
   "id": "a15b8279",
   "metadata": {},
   "outputs": [],
   "source": [
    "from langchain.prompts import (\n",
    "    ChatPromptTemplate,\n",
    "    PromptTemplate,\n",
    "    SystemMessagePromptTemplate,\n",
    "    AIMessagePromptTemplate,\n",
    "    HumanMessagePromptTemplate,\n",
    ")\n",
    "from langchain.schema import (\n",
    "    AIMessage,\n",
    "    HumanMessage,\n",
    "    SystemMessage\n",
    ")"
   ]
  },
  {
   "cell_type": "markdown",
   "id": "2f5eb446",
   "metadata": {},
   "source": [
    "## Generar plantillas de prompts"
   ]
  },
  {
   "cell_type": "code",
   "execution_count": 27,
   "id": "cbc8eeab-11ff-4c46-b69b-e963066980d0",
   "metadata": {},
   "outputs": [],
   "source": [
    "#Creamos la plantilla del sistema (system_template)\n",
    "system_template=\"Eres una IA especializada en coches de tipo {tipo_coches} y generar artículos que se leen en {tiempo_lectura}.\"\n",
    "system_message_prompt = SystemMessagePromptTemplate.from_template(system_template)"
   ]
  },
  {
   "cell_type": "code",
   "execution_count": 28,
   "id": "d93298f9-18d3-43af-bc23-633f5f3ab269",
   "metadata": {},
   "outputs": [
    {
     "data": {
      "text/plain": [
       "['tiempo_lectura', 'tipo_coches']"
      ]
     },
     "execution_count": 28,
     "metadata": {},
     "output_type": "execute_result"
    }
   ],
   "source": [
    "system_message_prompt.input_variables"
   ]
  },
  {
   "cell_type": "code",
   "execution_count": 29,
   "id": "2348e5e3-e878-403a-94e9-be61359fbb44",
   "metadata": {},
   "outputs": [],
   "source": [
    "#Creamos la plantilla de usuario (human_template)\n",
    "human_template=\"Necesito un artículo para vehículos con motor {peticion_tipo_motor}\"\n",
    "human_message_prompt = HumanMessagePromptTemplate.from_template(human_template)"
   ]
  },
  {
   "cell_type": "code",
   "execution_count": 30,
   "id": "d01b14b6-f422-4a08-bd0e-bba0f494563d",
   "metadata": {},
   "outputs": [
    {
     "data": {
      "text/plain": [
       "['peticion_tipo_motor']"
      ]
     },
     "execution_count": 30,
     "metadata": {},
     "output_type": "execute_result"
    }
   ],
   "source": [
    "human_message_prompt.input_variables"
   ]
  },
  {
   "cell_type": "code",
   "execution_count": 31,
   "id": "706756df-1264-4121-8043-b733e60188c0",
   "metadata": {},
   "outputs": [],
   "source": [
    "#Creamos una plantilla de chat con la concatenación tanto de mensajes del sistema como del humano\n",
    "chat_prompt = ChatPromptTemplate.from_messages([system_message_prompt, human_message_prompt])"
   ]
  },
  {
   "cell_type": "code",
   "execution_count": 15,
   "id": "52fdf3cf-f3d9-4108-ae72-b630487d9e9b",
   "metadata": {},
   "outputs": [
    {
     "data": {
      "text/plain": [
       "['peticion_tipo_motor', 'tiempo_lectura', 'tipo_coches']"
      ]
     },
     "execution_count": 15,
     "metadata": {},
     "output_type": "execute_result"
    }
   ],
   "source": [
    "chat_prompt.input_variables"
   ]
  },
  {
   "cell_type": "code",
   "execution_count": 32,
   "id": "3b19ae01-3be8-41c9-a470-3fd6fc69e801",
   "metadata": {},
   "outputs": [
    {
     "data": {
      "text/plain": [
       "ChatPromptValue(messages=[SystemMessage(content='Eres una IA especializada en coches de tipo japoneses y generar artículos que se leen en 10 min.'), HumanMessage(content='Necesito un artículo para vehículos con motor híbrido enchufable')])"
      ]
     },
     "execution_count": 32,
     "metadata": {},
     "output_type": "execute_result"
    }
   ],
   "source": [
    "# Completar el chat gracias al formateo de los mensajes\n",
    "chat_prompt.format_prompt(peticion_tipo_motor=\"híbrido enchufable\", tiempo_lectura=\"10 min\", tipo_coches=\"japoneses\")"
   ]
  },
  {
   "cell_type": "code",
   "execution_count": 33,
   "id": "73121537-8cee-42fc-ba0e-fc1c18154957",
   "metadata": {},
   "outputs": [],
   "source": [
    "#Transformamos el objeto prompt a una lista de mensajes y lo guardamos en \"solicitud_completa\" que es lo que pasaremos al LLM finalmente\n",
    "solicitud_completa = chat_prompt.format_prompt(peticion_tipo_motor=\"híbrido enchufable\", tiempo_lectura=\"10 min\", tipo_coches=\"japoneses\").to_messages()"
   ]
  },
  {
   "cell_type": "markdown",
   "id": "c276622f-d81c-40ed-864b-63d4c4311d84",
   "metadata": {},
   "source": [
    "## Obtener el resultado de la respuesta formateada"
   ]
  },
  {
   "cell_type": "code",
   "execution_count": 34,
   "id": "4b1ba2ee",
   "metadata": {},
   "outputs": [],
   "source": [
    "from langchain_openai import ChatOpenAI"
   ]
  },
  {
   "cell_type": "code",
   "execution_count": 35,
   "id": "0d21e33e-6ce1-4391-b406-279af06510f2",
   "metadata": {},
   "outputs": [],
   "source": [
    "f = open('../OpenAI_key.txt')\n",
    "api_key = f.read()\n",
    "chat = ChatOpenAI(openai_api_key=api_key)"
   ]
  },
  {
   "cell_type": "code",
   "execution_count": 36,
   "id": "8978391d-9c09-4b99-8520-27491ece4e9d",
   "metadata": {},
   "outputs": [],
   "source": [
    "result = chat.invoke(solicitud_completa)"
   ]
  },
  {
   "cell_type": "code",
   "execution_count": 37,
   "id": "88f47c1b-123c-4f47-8ee1-b72c88cbd048",
   "metadata": {},
   "outputs": [
    {
     "data": {
      "text/plain": [
       "AIMessage(content='Los vehículos con motor híbrido enchufable son una opción cada vez más popular en el mercado automotriz, ofreciendo una combinación de eficiencia en el consumo de combustible y la posibilidad de recorrer distancias cortas únicamente con energía eléctrica. En este artículo, exploraremos en detalle qué son estos vehículos, cómo funcionan, sus ventajas y desventajas, y algunos ejemplos de modelos destacados en el mercado.\\n\\n### ¿Qué son los vehículos con motor híbrido enchufable?\\n\\nUn vehículo con motor híbrido enchufable, también conocido como PHEV por sus siglas en inglés (Plug-in Hybrid Electric Vehicle), es un automóvil que combina un motor de combustión interna con un motor eléctrico recargable mediante un enchufe. Esto significa que el vehículo puede funcionar utilizando únicamente la energía eléctrica almacenada en su batería, o bien utilizando el motor de combustión interna, o una combinación de ambos, dependiendo de las condiciones de conducción y la demanda de potencia.\\n\\n### ¿Cómo funcionan?\\n\\nCuando el vehículo se encuentra enchufado a una fuente de energía eléctrica, como un cargador doméstico o una estación de carga pública, la batería se recarga para proporcionar energía al motor eléctrico. Durante la conducción, el sistema de gestión inteligente del vehículo decide cuándo utilizar la energía eléctrica almacenada en la batería y cuándo utilizar el motor de combustión interna, optimizando así la eficiencia y el rendimiento del vehículo.\\n\\n### Ventajas de los vehículos con motor híbrido enchufable\\n\\n1. **Eficiencia energética**: Al poder funcionar en modo eléctrico, los PHEV pueden reducir significativamente el consumo de combustible y las emisiones contaminantes en comparación con los vehículos convencionales.\\n  \\n2. **Autonomía**: La posibilidad de recargar la batería con electricidad permite a los conductores recorrer distancias más largas en modo eléctrico, lo que resulta en una mayor autonomía en comparación con los vehículos híbridos convencionales.\\n\\n3. **Incentivos fiscales**: En muchos países, los vehículos híbridos enchufables pueden beneficiarse de incentivos fiscales y subvenciones gubernamentales, lo que puede hacer que su compra sea más atractiva para los consumidores.\\n\\n### Desventajas de los vehículos con motor híbrido enchufable\\n\\n1. **Costo inicial**: Los vehículos con motor híbrido enchufable tienden a ser más caros que sus contrapartes convencionales, lo que puede limitar su accesibilidad para algunos consumidores.\\n\\n2. **Infraestructura de carga**: A pesar de que la red de puntos de carga eléctrica está en constante crecimiento, la infraestructura de carga puede ser limitada en algunas regiones, lo que puede dificultar la recarga de la batería en ciertos lugares.\\n\\n3. **Peso adicional**: Debido a la presencia de una batería de mayor tamaño, los vehículos híbridos enchufables tienden a ser más pesados que los vehículos convencionales, lo que puede afectar su agilidad y rendimiento en ciertas situaciones.\\n\\n### Ejemplos de modelos destacados en el mercado\\n\\n1. **Toyota Prius Prime**: Uno de los pioneros en la categoría de vehículos híbridos enchufables, el Toyota Prius Prime ofrece una excelente eficiencia energética y una autonomía eléctrica notable.\\n\\n2. **Chevrolet Volt**: Con una autonomía eléctrica de aproximadamente 85 km, el Chevrolet Volt es otro modelo popular en el segmento de los vehículos híbridos enchufables, ofreciendo un equilibrio entre eficiencia y rendimiento.\\n\\n3. **Mitsubishi Outlander PHEV**: Este SUV híbrido enchufable combina un motor de combustión interna con dos motores eléctricos, ofreciendo una tracción en las cuatro ruedas y una buena autonomía eléctrica.\\n\\nEn resumen, los vehículos con motor híbrido enchufable representan una interesante alternativa para aquellos conductores que buscan reducir su consumo de combustible y sus emisiones contaminantes, sin renunciar a la flexibilidad y autonomía que ofrecen los vehículos convencionales. Con una creciente variedad de modelos disponibles en el mercado, es probable que estos vehículos continúen ganando popularidad en los próximos años, a medida que la tecnología y la infraestructura de carga eléctrica siguen evolucionando.', response_metadata={'token_usage': {'completion_tokens': 1056, 'prompt_tokens': 56, 'total_tokens': 1112}, 'model_name': 'gpt-3.5-turbo-0125', 'system_fingerprint': None, 'finish_reason': 'stop', 'logprobs': None}, id='run-2300a6bc-0878-4859-87d9-c036c5562940-0', usage_metadata={'input_tokens': 56, 'output_tokens': 1056, 'total_tokens': 1112})"
      ]
     },
     "execution_count": 37,
     "metadata": {},
     "output_type": "execute_result"
    }
   ],
   "source": [
    "result"
   ]
  },
  {
   "cell_type": "code",
   "execution_count": 38,
   "id": "6ae9e58d-00b9-4ba4-af37-9ff35a4bef9f",
   "metadata": {},
   "outputs": [
    {
     "name": "stdout",
     "output_type": "stream",
     "text": [
      "Los vehículos con motor híbrido enchufable son una opción cada vez más popular en el mercado automotriz, ofreciendo una combinación de eficiencia en el consumo de combustible y la posibilidad de recorrer distancias cortas únicamente con energía eléctrica. En este artículo, exploraremos en detalle qué son estos vehículos, cómo funcionan, sus ventajas y desventajas, y algunos ejemplos de modelos destacados en el mercado.\n",
      "\n",
      "### ¿Qué son los vehículos con motor híbrido enchufable?\n",
      "\n",
      "Un vehículo con motor híbrido enchufable, también conocido como PHEV por sus siglas en inglés (Plug-in Hybrid Electric Vehicle), es un automóvil que combina un motor de combustión interna con un motor eléctrico recargable mediante un enchufe. Esto significa que el vehículo puede funcionar utilizando únicamente la energía eléctrica almacenada en su batería, o bien utilizando el motor de combustión interna, o una combinación de ambos, dependiendo de las condiciones de conducción y la demanda de potencia.\n",
      "\n",
      "### ¿Cómo funcionan?\n",
      "\n",
      "Cuando el vehículo se encuentra enchufado a una fuente de energía eléctrica, como un cargador doméstico o una estación de carga pública, la batería se recarga para proporcionar energía al motor eléctrico. Durante la conducción, el sistema de gestión inteligente del vehículo decide cuándo utilizar la energía eléctrica almacenada en la batería y cuándo utilizar el motor de combustión interna, optimizando así la eficiencia y el rendimiento del vehículo.\n",
      "\n",
      "### Ventajas de los vehículos con motor híbrido enchufable\n",
      "\n",
      "1. **Eficiencia energética**: Al poder funcionar en modo eléctrico, los PHEV pueden reducir significativamente el consumo de combustible y las emisiones contaminantes en comparación con los vehículos convencionales.\n",
      "  \n",
      "2. **Autonomía**: La posibilidad de recargar la batería con electricidad permite a los conductores recorrer distancias más largas en modo eléctrico, lo que resulta en una mayor autonomía en comparación con los vehículos híbridos convencionales.\n",
      "\n",
      "3. **Incentivos fiscales**: En muchos países, los vehículos híbridos enchufables pueden beneficiarse de incentivos fiscales y subvenciones gubernamentales, lo que puede hacer que su compra sea más atractiva para los consumidores.\n",
      "\n",
      "### Desventajas de los vehículos con motor híbrido enchufable\n",
      "\n",
      "1. **Costo inicial**: Los vehículos con motor híbrido enchufable tienden a ser más caros que sus contrapartes convencionales, lo que puede limitar su accesibilidad para algunos consumidores.\n",
      "\n",
      "2. **Infraestructura de carga**: A pesar de que la red de puntos de carga eléctrica está en constante crecimiento, la infraestructura de carga puede ser limitada en algunas regiones, lo que puede dificultar la recarga de la batería en ciertos lugares.\n",
      "\n",
      "3. **Peso adicional**: Debido a la presencia de una batería de mayor tamaño, los vehículos híbridos enchufables tienden a ser más pesados que los vehículos convencionales, lo que puede afectar su agilidad y rendimiento en ciertas situaciones.\n",
      "\n",
      "### Ejemplos de modelos destacados en el mercado\n",
      "\n",
      "1. **Toyota Prius Prime**: Uno de los pioneros en la categoría de vehículos híbridos enchufables, el Toyota Prius Prime ofrece una excelente eficiencia energética y una autonomía eléctrica notable.\n",
      "\n",
      "2. **Chevrolet Volt**: Con una autonomía eléctrica de aproximadamente 85 km, el Chevrolet Volt es otro modelo popular en el segmento de los vehículos híbridos enchufables, ofreciendo un equilibrio entre eficiencia y rendimiento.\n",
      "\n",
      "3. **Mitsubishi Outlander PHEV**: Este SUV híbrido enchufable combina un motor de combustión interna con dos motores eléctricos, ofreciendo una tracción en las cuatro ruedas y una buena autonomía eléctrica.\n",
      "\n",
      "En resumen, los vehículos con motor híbrido enchufable representan una interesante alternativa para aquellos conductores que buscan reducir su consumo de combustible y sus emisiones contaminantes, sin renunciar a la flexibilidad y autonomía que ofrecen los vehículos convencionales. Con una creciente variedad de modelos disponibles en el mercado, es probable que estos vehículos continúen ganando popularidad en los próximos años, a medida que la tecnología y la infraestructura de carga eléctrica siguen evolucionando.\n"
     ]
    }
   ],
   "source": [
    "print(result.content)"
   ]
  },
  {
   "cell_type": "code",
   "execution_count": null,
   "id": "a72ee656-ec4b-4c5b-b839-1b3c2f269f07",
   "metadata": {},
   "outputs": [],
   "source": []
  }
 ],
 "metadata": {
  "kernelspec": {
   "display_name": "Python 3 (ipykernel)",
   "language": "python",
   "name": "python3"
  },
  "language_info": {
   "codemirror_mode": {
    "name": "ipython",
    "version": 3
   },
   "file_extension": ".py",
   "mimetype": "text/x-python",
   "name": "python",
   "nbconvert_exporter": "python",
   "pygments_lexer": "ipython3",
   "version": "3.11.5"
  }
 },
 "nbformat": 4,
 "nbformat_minor": 5
}
