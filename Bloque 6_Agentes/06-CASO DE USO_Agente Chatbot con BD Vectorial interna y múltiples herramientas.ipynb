{
 "cells": [
  {
   "cell_type": "markdown",
   "id": "9454b5e9",
   "metadata": {},
   "source": [
    "<em style=\"text-align:center\">Copyright Iván Pinar Domínguez</em>"
   ]
  },
  {
   "cell_type": "markdown",
   "id": "e2128d1c-62d1-4681-abe1-754a1410e632",
   "metadata": {},
   "source": [
    "## 0.Importar librerías iniciales e instancia de modelo de chat"
   ]
  },
  {
   "cell_type": "code",
   "execution_count": 15,
   "id": "da270ae4",
   "metadata": {},
   "outputs": [],
   "source": [
    "from langchain_openai import ChatOpenAI\n",
    "from langchain.prompts import PromptTemplate, SystemMessagePromptTemplate,ChatPromptTemplate, HumanMessagePromptTemplate\n",
    "from langchain.agents import load_tools,initialize_agent,AgentType,create_react_agent,AgentExecutor\n",
    "f = open('../OpenAI_key.txt')\n",
    "api_key = f.read()\n",
    "llm = ChatOpenAI(openai_api_key=api_key,temperature=0) #Recomendable temperatura a 0 para que el LLM no sea muy creativo, vamos a tener muchas herramientas a nuestra disposición y queremos que sea más determinista"
   ]
  },
  {
   "cell_type": "markdown",
   "id": "d8a6a887",
   "metadata": {},
   "source": [
    "## 1.Cargamos la BD Vectores y el compresor"
   ]
  },
  {
   "cell_type": "code",
   "execution_count": 16,
   "id": "a0cd8686",
   "metadata": {},
   "outputs": [],
   "source": [
    "#Podríamos establecer que tuviera memoria\n",
    "from langchain.memory import ConversationBufferMemory\n",
    "memory = ConversationBufferMemory(memory_key=\"chat_history\") #ponemos una denominada clave a la memoria \"chat_history\""
   ]
  },
  {
   "cell_type": "code",
   "execution_count": 17,
   "id": "ac1c2fca",
   "metadata": {},
   "outputs": [],
   "source": [
    "from langchain_community.vectorstores import SKLearnVectorStore\n",
    "from langchain_openai import OpenAIEmbeddings\n",
    "from langchain.retrievers import ContextualCompressionRetriever\n",
    "from langchain.retrievers.document_compressors import LLMChainExtractor\n",
    "\n",
    "funcion_embedding = OpenAIEmbeddings(openai_api_key=api_key)\n",
    "persist_path=\"../Bloque 3_Conectores de Datos/ejemplosk_embedding_db\"\n",
    "vector_store_connection = SKLearnVectorStore(embedding=funcion_embedding, persist_path=persist_path, serializer=\"parquet\")\n",
    "compressor = LLMChainExtractor.from_llm(llm)\n",
    "compression_retriever = ContextualCompressionRetriever(base_compressor=compressor, base_retriever=vector_store_connection.as_retriever())"
   ]
  },
  {
   "cell_type": "markdown",
   "id": "771f0f7b",
   "metadata": {},
   "source": [
    "## 2.Creamos una nueva herramienta a partir de la BD Vectorial para obtener resultados optimizados"
   ]
  },
  {
   "cell_type": "code",
   "execution_count": 18,
   "id": "9a390f1a",
   "metadata": {},
   "outputs": [],
   "source": [
    "from langchain.agents import tool"
   ]
  },
  {
   "cell_type": "code",
   "execution_count": 19,
   "id": "54dbe9ce",
   "metadata": {},
   "outputs": [],
   "source": [
    "@tool\n",
    "def consulta_interna(text: str) -> str:\n",
    "    '''Retorna respuestas sobre la historia de España. Se espera que la entrada sea una cadena de texto\n",
    "    y retorna una cadena con el resultado más relevante. Si la respuesta con esta herramienta es relevante,\n",
    "    no debes usar ninguna herramienta más ni tu propio conocimiento como LLM'''\n",
    "    compressed_docs = compression_retriever.invoke(text)\n",
    "    resultado = compressed_docs[0].page_content\n",
    "    return resultado"
   ]
  },
  {
   "cell_type": "code",
   "execution_count": 20,
   "id": "109b221e",
   "metadata": {},
   "outputs": [],
   "source": [
    "tools = load_tools([\"wikipedia\",\"llm-math\"],llm=llm)"
   ]
  },
  {
   "cell_type": "code",
   "execution_count": 21,
   "id": "e6443291",
   "metadata": {},
   "outputs": [],
   "source": [
    "tools=tools+[consulta_interna]"
   ]
  },
  {
   "cell_type": "markdown",
   "id": "430a1e2b",
   "metadata": {},
   "source": [
    "## 3.Creamos el agente y lo ejecutamos "
   ]
  },
  {
   "cell_type": "code",
   "execution_count": 22,
   "id": "de033456",
   "metadata": {},
   "outputs": [],
   "source": [
    "agent = initialize_agent(tools, llm, agent=AgentType.CONVERSATIONAL_REACT_DESCRIPTION,memory=memory,verbose=True)"
   ]
  },
  {
   "cell_type": "code",
   "execution_count": 23,
   "id": "356c45df",
   "metadata": {},
   "outputs": [
    {
     "name": "stdout",
     "output_type": "stream",
     "text": [
      "\n",
      "\n",
      "\u001b[1m> Entering new AgentExecutor chain...\u001b[0m\n",
      "\u001b[32;1m\u001b[1;3mThought: Do I need to use a tool? Yes\n",
      "Action: consulta_interna\n",
      "Action Input: ¿Qué periodo abarca cronológicamente en España el siglo de oro?\u001b[0m\n",
      "Observation: \u001b[38;5;200m\u001b[1;3mEl Siglo de Oro español fue un período floreciente en las artes y las letras hispanas que abarca cronológicamente desde la publicación de la Gramática castellana de Nebrija en 1492 hasta la muerte de Calderón en 1681.\u001b[0m\n",
      "Thought:\u001b[32;1m\u001b[1;3mDo I need to use a tool? No\n",
      "AI: El Siglo de Oro español abarca cronológicamente desde la publicación de la Gramática castellana de Nebrija en 1492 hasta la muerte de Calderón en 1681.\u001b[0m\n",
      "\n",
      "\u001b[1m> Finished chain.\u001b[0m\n"
     ]
    },
    {
     "data": {
      "text/plain": [
       "{'input': '¿Qué periodo abarca cronológicamente en España el siglo de oro?',\n",
       " 'chat_history': '',\n",
       " 'output': 'El Siglo de Oro español abarca cronológicamente desde la publicación de la Gramática castellana de Nebrija en 1492 hasta la muerte de Calderón en 1681.'}"
      ]
     },
     "execution_count": 23,
     "metadata": {},
     "output_type": "execute_result"
    }
   ],
   "source": [
    "agent.invoke(\"¿Qué periodo abarca cronológicamente en España el siglo de oro?\")"
   ]
  },
  {
   "cell_type": "code",
   "execution_count": 24,
   "id": "a6bea07d",
   "metadata": {},
   "outputs": [
    {
     "name": "stdout",
     "output_type": "stream",
     "text": [
      "\n",
      "\n",
      "\u001b[1m> Entering new AgentExecutor chain...\u001b[0m\n",
      "\u001b[32;1m\u001b[1;3mThought: Do I need to use a tool? Yes\n",
      "Action: consulta_interna\n",
      "Action Input: ¿Qué pasó durante el Siglo de Oro en Francia?\u001b[0m\n",
      "Observation: \u001b[38;5;200m\u001b[1;3mSiglo de Oro\n",
      "Artículo principal: Siglo de Oro\n",
      "\n",
      "Miguel de Cervantes Saavedra\n",
      "El Siglo de Oro español fue un período floreciente en las artes y las letras hispanas que abarca cronológicamente desde la publicación de la Gramática castellana de Nebrija en 1492 hasta la muerte de Calderón en 1681.\u001b[0m\n",
      "Thought:\u001b[32;1m\u001b[1;3mDo I need to use a tool? No\n",
      "AI: Durante la misma etapa en Francia, se conoce como el Siglo de Oro de la literatura francesa, que abarca aproximadamente desde el siglo XVI hasta el siglo XVII. Durante este período, hubo un florecimiento de la literatura, la poesía, el teatro y las artes en general en Francia. Grandes escritores como Pierre de Ronsard, Joachim du Bellay, Michel de Montaigne y Pierre Corneille destacaron en este período.\u001b[0m\n",
      "\n",
      "\u001b[1m> Finished chain.\u001b[0m\n"
     ]
    },
    {
     "data": {
      "text/plain": [
       "{'input': '¿Qué pasó durante la misma etapa en Francia?',\n",
       " 'chat_history': 'Human: ¿Qué periodo abarca cronológicamente en España el siglo de oro?\\nAI: El Siglo de Oro español abarca cronológicamente desde la publicación de la Gramática castellana de Nebrija en 1492 hasta la muerte de Calderón en 1681.',\n",
       " 'output': 'Durante la misma etapa en Francia, se conoce como el Siglo de Oro de la literatura francesa, que abarca aproximadamente desde el siglo XVI hasta el siglo XVII. Durante este período, hubo un florecimiento de la literatura, la poesía, el teatro y las artes en general en Francia. Grandes escritores como Pierre de Ronsard, Joachim du Bellay, Michel de Montaigne y Pierre Corneille destacaron en este período.'}"
      ]
     },
     "execution_count": 24,
     "metadata": {},
     "output_type": "execute_result"
    }
   ],
   "source": [
    "agent.invoke(\"¿Qué pasó durante la misma etapa en Francia?\") #Gracias a tener memoria compara en esas fechas qué ocurrió en Francia"
   ]
  },
  {
   "cell_type": "code",
   "execution_count": 25,
   "id": "59281e39",
   "metadata": {},
   "outputs": [
    {
     "name": "stdout",
     "output_type": "stream",
     "text": [
      "\n",
      "\n",
      "\u001b[1m> Entering new AgentExecutor chain...\u001b[0m\n",
      "\u001b[32;1m\u001b[1;3mThought: Do I need to use a tool? Yes\n",
      "Action: wikipedia\n",
      "Action Input: List of automobile manufacturers\u001b[0m\n",
      "Observation: \u001b[36;1m\u001b[1;3mPage: List of automobile manufacturers\n",
      "Summary: Automobile manufacturers are companies and organizations that produce motor vehicles. Many of these companies are still in business, and many of the companies are defunct.  Only companies that have articles on Wikipedia are included in this list. The list is sorted by country of origin.\n",
      "\n",
      "Page: List of automobile manufacturers of China\n",
      "Summary: There are hundreds of automobile manufacturers operating in China, the country with the largest automotive industry in the world. It includes state-owned manufacturers, privately owned manufacturers, foreign manufacturers, and joint ventures between local and foreign manufacturers. See article Automobile manufacturers and brands of China for the more detailed introduction.\n",
      "\n",
      "\n",
      "\n",
      "Page: List of automobile manufacturers of Germany\n",
      "Summary: \u001b[0m\n",
      "Thought:\u001b[32;1m\u001b[1;3mDo I need to use a tool? No\n",
      "AI: Some of the most famous vehicle brands today include Toyota, Volkswagen, Ford, Honda, Chevrolet, Nissan, BMW, Mercedes-Benz, and Audi, among others. These brands are well-known for their quality, innovation, and popularity in the automotive industry.\u001b[0m\n",
      "\n",
      "\u001b[1m> Finished chain.\u001b[0m\n"
     ]
    },
    {
     "data": {
      "text/plain": [
       "{'input': '¿Cuáles son las marcas de vehículos más famosas hoy en día?',\n",
       " 'chat_history': 'Human: ¿Qué periodo abarca cronológicamente en España el siglo de oro?\\nAI: El Siglo de Oro español abarca cronológicamente desde la publicación de la Gramática castellana de Nebrija en 1492 hasta la muerte de Calderón en 1681.\\nHuman: ¿Qué pasó durante la misma etapa en Francia?\\nAI: Durante la misma etapa en Francia, se conoce como el Siglo de Oro de la literatura francesa, que abarca aproximadamente desde el siglo XVI hasta el siglo XVII. Durante este período, hubo un florecimiento de la literatura, la poesía, el teatro y las artes en general en Francia. Grandes escritores como Pierre de Ronsard, Joachim du Bellay, Michel de Montaigne y Pierre Corneille destacaron en este período.',\n",
       " 'output': 'Some of the most famous vehicle brands today include Toyota, Volkswagen, Ford, Honda, Chevrolet, Nissan, BMW, Mercedes-Benz, and Audi, among others. These brands are well-known for their quality, innovation, and popularity in the automotive industry.'}"
      ]
     },
     "execution_count": 25,
     "metadata": {},
     "output_type": "execute_result"
    }
   ],
   "source": [
    "agent.invoke(\"¿Cuáles son las marcas de vehículos más famosas hoy en día?\") #Pregunta que no podemos responder con nuestra BD Vectorial"
   ]
  }
 ],
 "metadata": {
  "kernelspec": {
   "display_name": "Python 3 (ipykernel)",
   "language": "python",
   "name": "python3"
  },
  "language_info": {
   "codemirror_mode": {
    "name": "ipython",
    "version": 3
   },
   "file_extension": ".py",
   "mimetype": "text/x-python",
   "name": "python",
   "nbconvert_exporter": "python",
   "pygments_lexer": "ipython3",
   "version": "3.11.5"
  }
 },
 "nbformat": 4,
 "nbformat_minor": 5
}
