{
 "cells": [
  {
   "cell_type": "markdown",
   "id": "9454b5e9",
   "metadata": {},
   "source": [
    "<em style=\"text-align:center\">Copyright Iván Pinar Domínguez</em>"
   ]
  },
  {
   "cell_type": "markdown",
   "id": "e2128d1c-62d1-4681-abe1-754a1410e632",
   "metadata": {},
   "source": [
    "## Importar librerías iniciales e instancia de modelo de chat"
   ]
  },
  {
   "cell_type": "code",
   "execution_count": 1,
   "id": "e2d81e4f-8739-4a19-abf9-7515304fc0a9",
   "metadata": {},
   "outputs": [],
   "source": [
    "from langchain.chains import ConversationChain\n",
    "from langchain.memory import ConversationBufferMemory, ConversationSummaryBufferMemory\n",
    "from langchain_openai import ChatOpenAI\n",
    "f = open('../OpenAI_key.txt')\n",
    "api_key = f.read()\n",
    "llm = ChatOpenAI(openai_api_key=api_key)"
   ]
  },
  {
   "cell_type": "markdown",
   "id": "728f1747-b8fc-4d31-96c2-047fc83c079d",
   "metadata": {},
   "source": [
    "#  Crear objeto ConversationSummaryMemory"
   ]
  },
  {
   "cell_type": "code",
   "execution_count": 2,
   "id": "4c741139-a54e-46c9-af29-2ba64f914f15",
   "metadata": {},
   "outputs": [],
   "source": [
    "memory = ConversationSummaryBufferMemory(llm=llm)"
   ]
  },
  {
   "cell_type": "code",
   "execution_count": 3,
   "id": "efb997dd-caac-4483-9d70-cb53fedb7183",
   "metadata": {},
   "outputs": [],
   "source": [
    "# Creamos un prompt cuya respuesta hará que se sobrepase el límite de tokens y por tanto sea recomendable resumir la memoria\n",
    "plan_viaje = '''Este fin de semana me voy de vacaciones a la playa, estaba pensando algo que fuera bastante relajado, pero necesito \n",
    "un plan detallado por días con qué hacer en familia, extiéndete todo lo que puedas'''"
   ]
  },
  {
   "cell_type": "markdown",
   "id": "425c1afc-b9f8-45af-906d-08128569aa6e",
   "metadata": {},
   "source": [
    "## Creamos una nueva conversación con un buffer de memoria resumida"
   ]
  },
  {
   "cell_type": "code",
   "execution_count": 5,
   "id": "2cf7d584-61b2-4d5a-8158-4e7870e399bf",
   "metadata": {},
   "outputs": [],
   "source": [
    "memory = ConversationSummaryBufferMemory(llm=llm, max_token_limit=100)\n",
    "conversation = ConversationChain(llm=llm,memory = memory,verbose=True)\n",
    "#Ejemplo con RunnableWithMessageHistory: https://api.python.langchain.com/en/latest/runnables/langchain_core.runnables.history.RunnableWithMessageHistory.html"
   ]
  },
  {
   "cell_type": "code",
   "execution_count": 6,
   "id": "f577d7dd",
   "metadata": {},
   "outputs": [
    {
     "name": "stdout",
     "output_type": "stream",
     "text": [
      "\n",
      "\n",
      "\u001b[1m> Entering new ConversationChain chain...\u001b[0m\n",
      "Prompt after formatting:\n",
      "\u001b[32;1m\u001b[1;3mThe following is a friendly conversation between a human and an AI. The AI is talkative and provides lots of specific details from its context. If the AI does not know the answer to a question, it truthfully says it does not know.\n",
      "\n",
      "Current conversation:\n",
      "\n",
      "Human: Este fin de semana me voy de vacaciones a la playa, estaba pensando algo que fuera bastante relajado, pero necesito \n",
      "un plan detallado por días con qué hacer en familia, extiéndete todo lo que puedas\n",
      "AI:\u001b[0m\n",
      "\n",
      "\u001b[1m> Finished chain.\u001b[0m\n"
     ]
    },
    {
     "data": {
      "text/plain": [
       "'¡Qué emocionante! La playa es un lugar perfecto para relajarse en familia. Para un plan detallado por días, te recomendaría lo siguiente:\\n\\nDía 1: Llegada a la playa, disfrutar de un día de descanso en la arena, hacer castillos de arena, nadar en el mar y ver la puesta de sol.\\nDía 2: Mañana de deportes acuáticos como surf, paddleboarding o snorkel, seguido de un almuerzo en un restaurante local. Por la tarde, puedes explorar los alrededores, visitar tiendas de recuerdos o hacer una caminata por la playa.\\nDía 3: Excursión en barco para ver la vida marina, como delfines o tortugas, seguido de un picnic en la playa. Por la tarde, puedes disfrutar de un masaje en la playa o practicar yoga al atardecer.\\nDía 4: Visita a un parque acuático cercano para disfrutar de toboganes y atracciones acuáticas. Por la tarde, puedes hacer una fogata en la playa y asar malvaviscos.\\nDía 5: Último día en la playa, aprovecha para hacer una sesión de fotos en la playa, recoger conchas marinas como recuerdos y disfrutar de un último día de relajación antes de volver a casa.\\n\\nEspero que este plan detallado te ayude a disfrutar al máximo de tus vacaciones en la playa en familia. ¡Que tengas un viaje increíble!'"
      ]
     },
     "execution_count": 6,
     "metadata": {},
     "output_type": "execute_result"
    }
   ],
   "source": [
    "conversation.predict(input=plan_viaje)"
   ]
  },
  {
   "cell_type": "code",
   "execution_count": 7,
   "id": "9a3f219b-7d5e-49c9-b4bf-79ab0a95cc25",
   "metadata": {},
   "outputs": [
    {
     "data": {
      "text/plain": [
       "{'history': 'System: The human shares their excitement about going on a beach vacation with family and asks for a detailed plan for each day. The AI provides a comprehensive itinerary including relaxation on the beach, water sports, boat trips, exploring the surroundings, visiting a water park, and more. The AI hopes this detailed plan will help the human enjoy their family beach vacation to the fullest.'}"
      ]
     },
     "execution_count": 7,
     "metadata": {},
     "output_type": "execute_result"
    }
   ],
   "source": [
    "memory.load_memory_variables({}) #Se ha realizado un resumen de la memoria en base al límite de tokens"
   ]
  },
  {
   "cell_type": "code",
   "execution_count": 8,
   "id": "d6324fe6",
   "metadata": {},
   "outputs": [
    {
     "name": "stdout",
     "output_type": "stream",
     "text": [
      "System: The human shares their excitement about going on a beach vacation with family and asks for a detailed plan for each day. The AI provides a comprehensive itinerary including relaxation on the beach, water sports, boat trips, exploring the surroundings, visiting a water park, and more. The AI hopes this detailed plan will help the human enjoy their family beach vacation to the fullest.\n"
     ]
    }
   ],
   "source": [
    "print(memory.buffer)"
   ]
  }
 ],
 "metadata": {
  "kernelspec": {
   "display_name": "Python 3 (ipykernel)",
   "language": "python",
   "name": "python3"
  },
  "language_info": {
   "codemirror_mode": {
    "name": "ipython",
    "version": 3
   },
   "file_extension": ".py",
   "mimetype": "text/x-python",
   "name": "python",
   "nbconvert_exporter": "python",
   "pygments_lexer": "ipython3",
   "version": "3.11.5"
  }
 },
 "nbformat": 4,
 "nbformat_minor": 5
}
